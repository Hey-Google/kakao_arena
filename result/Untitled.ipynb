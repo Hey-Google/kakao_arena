{
 "cells": [
  {
   "cell_type": "code",
   "execution_count": 1,
   "metadata": {},
   "outputs": [],
   "source": [
    "import pandas as pd"
   ]
  },
  {
   "cell_type": "code",
   "execution_count": 2,
   "metadata": {},
   "outputs": [],
   "source": [
    "df1 = pd.read_json('./final_results_track_1.json')\n",
    "df2 = pd.read_json('./final_results_track_2.json')\n",
    "df3 = pd.read_json('./final_results_track_3.json')"
   ]
  },
  {
   "cell_type": "code",
   "execution_count": 5,
   "metadata": {},
   "outputs": [
    {
     "data": {
      "text/html": [
       "<div>\n",
       "<style scoped>\n",
       "    .dataframe tbody tr th:only-of-type {\n",
       "        vertical-align: middle;\n",
       "    }\n",
       "\n",
       "    .dataframe tbody tr th {\n",
       "        vertical-align: top;\n",
       "    }\n",
       "\n",
       "    .dataframe thead th {\n",
       "        text-align: right;\n",
       "    }\n",
       "</style>\n",
       "<table border=\"1\" class=\"dataframe\">\n",
       "  <thead>\n",
       "    <tr style=\"text-align: right;\">\n",
       "      <th></th>\n",
       "      <th>id</th>\n",
       "      <th>songs</th>\n",
       "      <th>tags</th>\n",
       "    </tr>\n",
       "  </thead>\n",
       "  <tbody>\n",
       "    <tr>\n",
       "      <th>0</th>\n",
       "      <td>131</td>\n",
       "      <td>[94701, 280103, 298115, 228448, 404003, 56651,...</td>\n",
       "      <td>NaN</td>\n",
       "    </tr>\n",
       "    <tr>\n",
       "      <th>1</th>\n",
       "      <td>209</td>\n",
       "      <td>[157055, 509998, 396828, 422915, 349492, 42207...</td>\n",
       "      <td>NaN</td>\n",
       "    </tr>\n",
       "    <tr>\n",
       "      <th>2</th>\n",
       "      <td>346</td>\n",
       "      <td>[326204, 695032, 387859, 117169, 112399, 5049,...</td>\n",
       "      <td>NaN</td>\n",
       "    </tr>\n",
       "    <tr>\n",
       "      <th>3</th>\n",
       "      <td>562</td>\n",
       "      <td>[645489, 654757, 88503, 118219, 295250, 269370...</td>\n",
       "      <td>NaN</td>\n",
       "    </tr>\n",
       "    <tr>\n",
       "      <th>4</th>\n",
       "      <td>706</td>\n",
       "      <td>[664036, 572932, 1236, 325455, 170317, 578240,...</td>\n",
       "      <td>NaN</td>\n",
       "    </tr>\n",
       "    <tr>\n",
       "      <th>...</th>\n",
       "      <td>...</td>\n",
       "      <td>...</td>\n",
       "      <td>...</td>\n",
       "    </tr>\n",
       "    <tr>\n",
       "      <th>794</th>\n",
       "      <td>152941</td>\n",
       "      <td>[53080, 44200, 555338, 33829, 686809, 204888, ...</td>\n",
       "      <td>NaN</td>\n",
       "    </tr>\n",
       "    <tr>\n",
       "      <th>795</th>\n",
       "      <td>153111</td>\n",
       "      <td>[314959, 320457, 239009, 231843, 500941, 53645...</td>\n",
       "      <td>NaN</td>\n",
       "    </tr>\n",
       "    <tr>\n",
       "      <th>796</th>\n",
       "      <td>153130</td>\n",
       "      <td>[357367, 300087, 516906, 95485, 446812, 576186...</td>\n",
       "      <td>NaN</td>\n",
       "    </tr>\n",
       "    <tr>\n",
       "      <th>797</th>\n",
       "      <td>153358</td>\n",
       "      <td>[24221, 347303, 495901, 285208, 660382, 528002...</td>\n",
       "      <td>NaN</td>\n",
       "    </tr>\n",
       "    <tr>\n",
       "      <th>798</th>\n",
       "      <td>153372</td>\n",
       "      <td>[707988, 235991, 235999, 235998, 235997, 23599...</td>\n",
       "      <td>NaN</td>\n",
       "    </tr>\n",
       "  </tbody>\n",
       "</table>\n",
       "<p>799 rows × 3 columns</p>\n",
       "</div>"
      ],
      "text/plain": [
       "         id                                              songs  tags\n",
       "0       131  [94701, 280103, 298115, 228448, 404003, 56651,...   NaN\n",
       "1       209  [157055, 509998, 396828, 422915, 349492, 42207...   NaN\n",
       "2       346  [326204, 695032, 387859, 117169, 112399, 5049,...   NaN\n",
       "3       562  [645489, 654757, 88503, 118219, 295250, 269370...   NaN\n",
       "4       706  [664036, 572932, 1236, 325455, 170317, 578240,...   NaN\n",
       "..      ...                                                ...   ...\n",
       "794  152941  [53080, 44200, 555338, 33829, 686809, 204888, ...   NaN\n",
       "795  153111  [314959, 320457, 239009, 231843, 500941, 53645...   NaN\n",
       "796  153130  [357367, 300087, 516906, 95485, 446812, 576186...   NaN\n",
       "797  153358  [24221, 347303, 495901, 285208, 660382, 528002...   NaN\n",
       "798  153372  [707988, 235991, 235999, 235998, 235997, 23599...   NaN\n",
       "\n",
       "[799 rows x 3 columns]"
      ]
     },
     "execution_count": 5,
     "metadata": {},
     "output_type": "execute_result"
    }
   ],
   "source": [
    "df3"
   ]
  },
  {
   "cell_type": "code",
   "execution_count": null,
   "metadata": {},
   "outputs": [],
   "source": []
  }
 ],
 "metadata": {
  "kernelspec": {
   "display_name": "Python 3",
   "language": "python",
   "name": "python3"
  },
  "language_info": {
   "codemirror_mode": {
    "name": "ipython",
    "version": 3
   },
   "file_extension": ".py",
   "mimetype": "text/x-python",
   "name": "python",
   "nbconvert_exporter": "python",
   "pygments_lexer": "ipython3",
   "version": "3.7.6"
  }
 },
 "nbformat": 4,
 "nbformat_minor": 4
}
